{
 "cells": [
  {
   "cell_type": "code",
   "execution_count": null,
   "metadata": {},
   "outputs": [],
   "source": [
    "import matplotlib.pyplot as plt\n",
    "from razredi import Tocka\n",
    "from jarvis_march import grid_peel_jarvis_enakomerna\n",
    "from graham_scan import grid_peel_graham_enakomerna"
   ]
  },
  {
   "cell_type": "code",
   "execution_count": null,
   "metadata": {},
   "outputs": [],
   "source": [
    "graham = grid_peel_graham_enakomerna(3,3)\n",
    "jarvis = grid_peel_jarvis_enakomerna(5,5)\n",
    "print(jarvis)\n",
    "#print(graham)"
   ]
  },
  {
   "cell_type": "code",
   "execution_count": null,
   "metadata": {},
   "outputs": [],
   "source": [
    "graham_1 = [(i.x, i.y) for i in graham[1][0]]\n",
    "graham_2 = [(i.x, i.y) for i in graham[1][1]]\n",
    "graham_3 = [(i.x, i.y) for i in graham[1][2]]\n",
    "\n",
    "\n",
    "\n"
   ]
  },
  {
   "cell_type": "code",
   "execution_count": null,
   "metadata": {},
   "outputs": [],
   "source": [
    "plt.plot(*zip(*graham_1), \".r-\")\n",
    "plt.plot(*zip(*graham_2), \".b-\")\n",
    "plt.plot(*zip(*graham_3), \"-o\")\n"
   ]
  },
  {
   "cell_type": "code",
   "execution_count": null,
   "metadata": {},
   "outputs": [],
   "source": []
  },
  {
   "cell_type": "code",
   "execution_count": null,
   "metadata": {},
   "outputs": [],
   "source": []
  }
 ],
 "metadata": {
  "kernelspec": {
   "name": "python3",
   "display_name": "Python 3.7.2 32-bit",
   "metadata": {
    "interpreter": {
     "hash": "1f105e03c196ecbe621de11f5c9778673e33fc3391fb8658934ec041e5bd5313"
    }
   }
  },
  "language_info": {
   "codemirror_mode": {
    "name": "ipython",
    "version": 3
   },
   "file_extension": ".py",
   "mimetype": "text/x-python",
   "name": "python",
   "nbconvert_exporter": "python",
   "pygments_lexer": "ipython3",
   "version": "3.7.2-final"
  }
 },
 "nbformat": 4,
 "nbformat_minor": 4
}